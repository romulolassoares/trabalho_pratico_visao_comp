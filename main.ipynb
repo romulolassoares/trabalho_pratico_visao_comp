{
 "cells": [
  {
   "cell_type": "code",
   "execution_count": 1,
   "metadata": {},
   "outputs": [],
   "source": [
    "import torch\n",
    "import torch.nn as nn\n",
    "import torch.optim as optim\n",
    "import torchvision.transforms as transforms\n",
    "from torch.utils.data import DataLoader\n",
    "import matplotlib.pyplot as plt\n",
    "import pandas as pd\n",
    "from classes.AlexNetPYTORCH import AlexNet\n",
    "from utils.functions import *"
   ]
  },
  {
   "cell_type": "markdown",
   "metadata": {},
   "source": [
    "Definição das variaveis gerais"
   ]
  },
  {
   "cell_type": "code",
   "execution_count": 2,
   "metadata": {},
   "outputs": [],
   "source": [
    "# Número de épocas\n",
    "NUM_EPOCHS = 2\n",
    "# Tamanho do lote em cada interação\n",
    "BATCH_SIZE = 32\n",
    "# Parâmetro de convergência\n",
    "MOMENTUM = 0.9 \n",
    "# Taxa de decaimento\n",
    "LR_DECAY = 0.0005 \n",
    "# Taxa de aprendizado inicial\n",
    "LR_INIT = 0.01 \n",
    "# Dimensão das imagens\n",
    "IMAGE_DIM = 227  \n",
    "# Lista de classes do dataset\n",
    "CIFAR10_CLASSES = ['airplane', 'automobile', 'bird', 'cat', 'deer', 'dog', 'frog', 'horse', 'ship', 'truck']\n",
    "# Total de classes\n",
    "NUM_CLASSES = len(CIFAR10_CLASSES)\n",
    "# Porcentagem total do dataset\n",
    "PERCENT = 50"
   ]
  },
  {
   "cell_type": "markdown",
   "metadata": {},
   "source": [
    "Seleciona em qual dispositivo será executado"
   ]
  },
  {
   "cell_type": "code",
   "execution_count": 3,
   "metadata": {},
   "outputs": [
    {
     "name": "stdout",
     "output_type": "stream",
     "text": [
      "Using device: cuda\n"
     ]
    }
   ],
   "source": [
    "device = torch.device(\"cuda\" if torch.cuda.is_available() else \"cpu\")\n",
    "print(f\"Using device: {device}\")"
   ]
  },
  {
   "cell_type": "markdown",
   "metadata": {},
   "source": [
    "Tranformações para redimensionamento das imagens"
   ]
  },
  {
   "cell_type": "code",
   "execution_count": 4,
   "metadata": {},
   "outputs": [],
   "source": [
    "# Defina as transformações para redimensionar e normalizar as imagens\n",
    "transform = transforms.Compose([transforms.Resize((IMAGE_DIM, IMAGE_DIM)),\n",
    "                                transforms.ToTensor(),\n",
    "                                transforms.Normalize((0.5, 0.5, 0.5), (0.5, 0.5, 0.5))])"
   ]
  },
  {
   "cell_type": "markdown",
   "metadata": {},
   "source": [
    "Gera um conjunto de treinamento e de test"
   ]
  },
  {
   "cell_type": "code",
   "execution_count": 5,
   "metadata": {},
   "outputs": [
    {
     "name": "stdout",
     "output_type": "stream",
     "text": [
      "Files already downloaded and verified\n",
      "Files already downloaded and verified\n"
     ]
    }
   ],
   "source": [
    "trainset, testset = load_cifar10(n_size=PERCENT, transform=transform)\n",
    "# Defina o dataloader\n",
    "trainloader = DataLoader(trainset, batch_size=BATCH_SIZE, shuffle=True)\n",
    "testloader = DataLoader(testset, batch_size=BATCH_SIZE, shuffle=False)"
   ]
  },
  {
   "cell_type": "markdown",
   "metadata": {},
   "source": [
    "Cria a AlexNet"
   ]
  },
  {
   "cell_type": "code",
   "execution_count": 6,
   "metadata": {},
   "outputs": [],
   "source": [
    "# Instancie a AlexNet\n",
    "alexnet = AlexNet(num_classes=NUM_CLASSES).to(device)"
   ]
  },
  {
   "cell_type": "markdown",
   "metadata": {},
   "source": [
    "Treinmanedo da rede"
   ]
  },
  {
   "cell_type": "code",
   "execution_count": 7,
   "metadata": {},
   "outputs": [],
   "source": [
    "# Defina a função de perda e otimizador\n",
    "criterion = nn.CrossEntropyLoss()\n",
    "optimizer = optim.SGD(alexnet.parameters(), lr=LR_INIT, momentum=MOMENTUM, weight_decay=LR_DECAY)"
   ]
  },
  {
   "cell_type": "code",
   "execution_count": 8,
   "metadata": {},
   "outputs": [
    {
     "name": "stderr",
     "output_type": "stream",
     "text": [
      "Epoch 1/20, Training: 100%|██████████| 391/391 [01:04<00:00,  6.04it/s, loss=2.12]\n",
      "Epoch 1/20, Testing: 100%|██████████| 79/79 [00:06<00:00, 12.20it/s]\n"
     ]
    },
    {
     "name": "stdout",
     "output_type": "stream",
     "text": [
      "Epoch 1/20, Training Loss: 2.1178, Test Loss: 1.8910\n"
     ]
    },
    {
     "name": "stderr",
     "output_type": "stream",
     "text": [
      "Epoch 2/20, Training: 100%|██████████| 391/391 [01:06<00:00,  5.91it/s, loss=1.62]\n",
      "Epoch 2/20, Testing: 100%|██████████| 79/79 [00:06<00:00, 12.52it/s]\n"
     ]
    },
    {
     "name": "stdout",
     "output_type": "stream",
     "text": [
      "Epoch 2/20, Training Loss: 1.6191, Test Loss: 1.5493\n"
     ]
    },
    {
     "name": "stderr",
     "output_type": "stream",
     "text": [
      "Epoch 3/20, Training: 100%|██████████| 391/391 [01:05<00:00,  5.97it/s, loss=1.35]\n",
      "Epoch 3/20, Testing: 100%|██████████| 79/79 [00:06<00:00, 12.14it/s]\n"
     ]
    },
    {
     "name": "stdout",
     "output_type": "stream",
     "text": [
      "Epoch 3/20, Training Loss: 1.3462, Test Loss: 1.2260\n"
     ]
    },
    {
     "name": "stderr",
     "output_type": "stream",
     "text": [
      "Epoch 4/20, Training: 100%|██████████| 391/391 [01:06<00:00,  5.86it/s, loss=1.13]\n",
      "Epoch 4/20, Testing: 100%|██████████| 79/79 [00:06<00:00, 12.25it/s]\n"
     ]
    },
    {
     "name": "stdout",
     "output_type": "stream",
     "text": [
      "Epoch 4/20, Training Loss: 1.1261, Test Loss: 1.0618\n"
     ]
    },
    {
     "name": "stderr",
     "output_type": "stream",
     "text": [
      "Epoch 5/20, Training: 100%|██████████| 391/391 [01:06<00:00,  5.85it/s, loss=0.939]\n",
      "Epoch 5/20, Testing: 100%|██████████| 79/79 [00:06<00:00, 12.48it/s]\n"
     ]
    },
    {
     "name": "stdout",
     "output_type": "stream",
     "text": [
      "Epoch 5/20, Training Loss: 0.9385, Test Loss: 1.0008\n"
     ]
    },
    {
     "name": "stderr",
     "output_type": "stream",
     "text": [
      "Epoch 6/20, Training: 100%|██████████| 391/391 [01:06<00:00,  5.89it/s, loss=0.775]\n",
      "Epoch 6/20, Testing: 100%|██████████| 79/79 [00:06<00:00, 12.48it/s]\n"
     ]
    },
    {
     "name": "stdout",
     "output_type": "stream",
     "text": [
      "Epoch 6/20, Training Loss: 0.7754, Test Loss: 0.8243\n"
     ]
    },
    {
     "name": "stderr",
     "output_type": "stream",
     "text": [
      "Epoch 7/20, Training: 100%|██████████| 391/391 [01:06<00:00,  5.87it/s, loss=0.644]\n",
      "Epoch 7/20, Testing: 100%|██████████| 79/79 [00:06<00:00, 12.47it/s]\n"
     ]
    },
    {
     "name": "stdout",
     "output_type": "stream",
     "text": [
      "Epoch 7/20, Training Loss: 0.6439, Test Loss: 0.8300\n"
     ]
    },
    {
     "name": "stderr",
     "output_type": "stream",
     "text": [
      "Epoch 8/20, Training: 100%|██████████| 391/391 [01:06<00:00,  5.89it/s, loss=0.503]\n",
      "Epoch 8/20, Testing: 100%|██████████| 79/79 [00:06<00:00, 12.33it/s]\n"
     ]
    },
    {
     "name": "stdout",
     "output_type": "stream",
     "text": [
      "Epoch 8/20, Training Loss: 0.5031, Test Loss: 0.8902\n"
     ]
    },
    {
     "name": "stderr",
     "output_type": "stream",
     "text": [
      "Epoch 9/20, Training: 100%|██████████| 391/391 [01:06<00:00,  5.89it/s, loss=0.377]\n",
      "Epoch 9/20, Testing: 100%|██████████| 79/79 [00:06<00:00, 12.40it/s]\n"
     ]
    },
    {
     "name": "stdout",
     "output_type": "stream",
     "text": [
      "Epoch 9/20, Training Loss: 0.3765, Test Loss: 0.9481\n"
     ]
    },
    {
     "name": "stderr",
     "output_type": "stream",
     "text": [
      "Epoch 10/20, Training: 100%|██████████| 391/391 [01:06<00:00,  5.88it/s, loss=0.262]\n",
      "Epoch 10/20, Testing: 100%|██████████| 79/79 [00:06<00:00, 12.13it/s]\n"
     ]
    },
    {
     "name": "stdout",
     "output_type": "stream",
     "text": [
      "Epoch 10/20, Training Loss: 0.2623, Test Loss: 1.1093\n"
     ]
    },
    {
     "name": "stderr",
     "output_type": "stream",
     "text": [
      "Epoch 11/20, Training: 100%|██████████| 391/391 [01:06<00:00,  5.88it/s, loss=0.204]\n",
      "Epoch 11/20, Testing: 100%|██████████| 79/79 [00:06<00:00, 12.70it/s]\n"
     ]
    },
    {
     "name": "stdout",
     "output_type": "stream",
     "text": [
      "Epoch 11/20, Training Loss: 0.2045, Test Loss: 1.1076\n"
     ]
    },
    {
     "name": "stderr",
     "output_type": "stream",
     "text": [
      "Epoch 12/20, Training: 100%|██████████| 391/391 [01:05<00:00,  5.97it/s, loss=0.141]\n",
      "Epoch 12/20, Testing: 100%|██████████| 79/79 [00:06<00:00, 12.25it/s]\n"
     ]
    },
    {
     "name": "stdout",
     "output_type": "stream",
     "text": [
      "Epoch 12/20, Training Loss: 0.1405, Test Loss: 1.1249\n"
     ]
    },
    {
     "name": "stderr",
     "output_type": "stream",
     "text": [
      "Epoch 13/20, Training: 100%|██████████| 391/391 [01:06<00:00,  5.89it/s, loss=0.12]  \n",
      "Epoch 13/20, Testing: 100%|██████████| 79/79 [00:06<00:00, 12.33it/s]\n"
     ]
    },
    {
     "name": "stdout",
     "output_type": "stream",
     "text": [
      "Epoch 13/20, Training Loss: 0.1195, Test Loss: 1.3962\n"
     ]
    },
    {
     "name": "stderr",
     "output_type": "stream",
     "text": [
      "Epoch 14/20, Training: 100%|██████████| 391/391 [01:05<00:00,  5.98it/s, loss=0.0995]\n",
      "Epoch 14/20, Testing: 100%|██████████| 79/79 [00:06<00:00, 12.55it/s]\n"
     ]
    },
    {
     "name": "stdout",
     "output_type": "stream",
     "text": [
      "Epoch 14/20, Training Loss: 0.0995, Test Loss: 1.3261\n"
     ]
    },
    {
     "name": "stderr",
     "output_type": "stream",
     "text": [
      "Epoch 15/20, Training: 100%|██████████| 391/391 [01:05<00:00,  5.99it/s, loss=0.0833]\n",
      "Epoch 15/20, Testing: 100%|██████████| 79/79 [00:06<00:00, 12.58it/s]\n"
     ]
    },
    {
     "name": "stdout",
     "output_type": "stream",
     "text": [
      "Epoch 15/20, Training Loss: 0.0833, Test Loss: 1.3466\n"
     ]
    },
    {
     "name": "stderr",
     "output_type": "stream",
     "text": [
      "Epoch 16/20, Training: 100%|██████████| 391/391 [01:05<00:00,  5.97it/s, loss=0.067] \n",
      "Epoch 16/20, Testing: 100%|██████████| 79/79 [00:06<00:00, 12.57it/s]\n"
     ]
    },
    {
     "name": "stdout",
     "output_type": "stream",
     "text": [
      "Epoch 16/20, Training Loss: 0.0670, Test Loss: 1.3455\n"
     ]
    },
    {
     "name": "stderr",
     "output_type": "stream",
     "text": [
      "Epoch 17/20, Training: 100%|██████████| 391/391 [01:05<00:00,  5.97it/s, loss=0.0621]\n",
      "Epoch 17/20, Testing: 100%|██████████| 79/79 [00:06<00:00, 12.32it/s]\n"
     ]
    },
    {
     "name": "stdout",
     "output_type": "stream",
     "text": [
      "Epoch 17/20, Training Loss: 0.0621, Test Loss: 1.3502\n"
     ]
    },
    {
     "name": "stderr",
     "output_type": "stream",
     "text": [
      "Epoch 18/20, Training: 100%|██████████| 391/391 [01:05<00:00,  6.01it/s, loss=0.0423]\n",
      "Epoch 18/20, Testing: 100%|██████████| 79/79 [00:06<00:00, 12.48it/s]\n"
     ]
    },
    {
     "name": "stdout",
     "output_type": "stream",
     "text": [
      "Epoch 18/20, Training Loss: 0.0423, Test Loss: 1.5669\n"
     ]
    },
    {
     "name": "stderr",
     "output_type": "stream",
     "text": [
      "Epoch 19/20, Training: 100%|██████████| 391/391 [01:05<00:00,  5.97it/s, loss=0.0459]\n",
      "Epoch 19/20, Testing: 100%|██████████| 79/79 [00:06<00:00, 12.10it/s]\n"
     ]
    },
    {
     "name": "stdout",
     "output_type": "stream",
     "text": [
      "Epoch 19/20, Training Loss: 0.0459, Test Loss: 1.4425\n"
     ]
    },
    {
     "name": "stderr",
     "output_type": "stream",
     "text": [
      "Epoch 20/20, Training: 100%|██████████| 391/391 [01:06<00:00,  5.90it/s, loss=0.0426]\n",
      "Epoch 20/20, Testing: 100%|██████████| 79/79 [00:06<00:00, 12.44it/s]"
     ]
    },
    {
     "name": "stdout",
     "output_type": "stream",
     "text": [
      "Epoch 20/20, Training Loss: 0.0426, Test Loss: 1.3712\n"
     ]
    },
    {
     "name": "stderr",
     "output_type": "stream",
     "text": [
      "\n"
     ]
    }
   ],
   "source": [
    "model_trained, metrics = make_train(alexnet, NUM_EPOCHS, optimizer,criterion,trainloader, testloader, device)"
   ]
  },
  {
   "cell_type": "markdown",
   "metadata": {},
   "source": [
    "Analise dos resultados pos treinamento"
   ]
  },
  {
   "cell_type": "code",
   "execution_count": 9,
   "metadata": {},
   "outputs": [],
   "source": [
    "metrics_df = pd.DataFrame(metrics)"
   ]
  },
  {
   "cell_type": "code",
   "execution_count": 10,
   "metadata": {},
   "outputs": [
    {
     "data": {
      "text/html": [
       "<div>\n",
       "<style scoped>\n",
       "    .dataframe tbody tr th:only-of-type {\n",
       "        vertical-align: middle;\n",
       "    }\n",
       "\n",
       "    .dataframe tbody tr th {\n",
       "        vertical-align: top;\n",
       "    }\n",
       "\n",
       "    .dataframe thead th {\n",
       "        text-align: right;\n",
       "    }\n",
       "</style>\n",
       "<table border=\"1\" class=\"dataframe\">\n",
       "  <thead>\n",
       "    <tr style=\"text-align: right;\">\n",
       "      <th></th>\n",
       "      <th>epoch</th>\n",
       "      <th>train_loss</th>\n",
       "      <th>test_loss</th>\n",
       "      <th>accuracy</th>\n",
       "      <th>recall</th>\n",
       "      <th>f1_score</th>\n",
       "    </tr>\n",
       "  </thead>\n",
       "  <tbody>\n",
       "    <tr>\n",
       "      <th>0</th>\n",
       "      <td>1</td>\n",
       "      <td>2.117823</td>\n",
       "      <td>1.890981</td>\n",
       "      <td>0.3264</td>\n",
       "      <td>0.3264</td>\n",
       "      <td>0.291068</td>\n",
       "    </tr>\n",
       "    <tr>\n",
       "      <th>1</th>\n",
       "      <td>2</td>\n",
       "      <td>1.619114</td>\n",
       "      <td>1.549263</td>\n",
       "      <td>0.4576</td>\n",
       "      <td>0.4576</td>\n",
       "      <td>0.437718</td>\n",
       "    </tr>\n",
       "    <tr>\n",
       "      <th>2</th>\n",
       "      <td>3</td>\n",
       "      <td>1.346242</td>\n",
       "      <td>1.225999</td>\n",
       "      <td>0.5610</td>\n",
       "      <td>0.5610</td>\n",
       "      <td>0.552638</td>\n",
       "    </tr>\n",
       "    <tr>\n",
       "      <th>3</th>\n",
       "      <td>4</td>\n",
       "      <td>1.126114</td>\n",
       "      <td>1.061778</td>\n",
       "      <td>0.6276</td>\n",
       "      <td>0.6276</td>\n",
       "      <td>0.628848</td>\n",
       "    </tr>\n",
       "    <tr>\n",
       "      <th>4</th>\n",
       "      <td>5</td>\n",
       "      <td>0.938519</td>\n",
       "      <td>1.000822</td>\n",
       "      <td>0.6512</td>\n",
       "      <td>0.6512</td>\n",
       "      <td>0.649710</td>\n",
       "    </tr>\n",
       "    <tr>\n",
       "      <th>5</th>\n",
       "      <td>6</td>\n",
       "      <td>0.775381</td>\n",
       "      <td>0.824272</td>\n",
       "      <td>0.7252</td>\n",
       "      <td>0.7252</td>\n",
       "      <td>0.724901</td>\n",
       "    </tr>\n",
       "    <tr>\n",
       "      <th>6</th>\n",
       "      <td>7</td>\n",
       "      <td>0.643918</td>\n",
       "      <td>0.829965</td>\n",
       "      <td>0.7338</td>\n",
       "      <td>0.7338</td>\n",
       "      <td>0.731073</td>\n",
       "    </tr>\n",
       "    <tr>\n",
       "      <th>7</th>\n",
       "      <td>8</td>\n",
       "      <td>0.503111</td>\n",
       "      <td>0.890168</td>\n",
       "      <td>0.7202</td>\n",
       "      <td>0.7202</td>\n",
       "      <td>0.716313</td>\n",
       "    </tr>\n",
       "    <tr>\n",
       "      <th>8</th>\n",
       "      <td>9</td>\n",
       "      <td>0.376526</td>\n",
       "      <td>0.948073</td>\n",
       "      <td>0.7232</td>\n",
       "      <td>0.7232</td>\n",
       "      <td>0.723151</td>\n",
       "    </tr>\n",
       "    <tr>\n",
       "      <th>9</th>\n",
       "      <td>10</td>\n",
       "      <td>0.262259</td>\n",
       "      <td>1.109301</td>\n",
       "      <td>0.7114</td>\n",
       "      <td>0.7114</td>\n",
       "      <td>0.714071</td>\n",
       "    </tr>\n",
       "    <tr>\n",
       "      <th>10</th>\n",
       "      <td>11</td>\n",
       "      <td>0.204455</td>\n",
       "      <td>1.107618</td>\n",
       "      <td>0.7416</td>\n",
       "      <td>0.7416</td>\n",
       "      <td>0.742195</td>\n",
       "    </tr>\n",
       "    <tr>\n",
       "      <th>11</th>\n",
       "      <td>12</td>\n",
       "      <td>0.140549</td>\n",
       "      <td>1.124946</td>\n",
       "      <td>0.7310</td>\n",
       "      <td>0.7310</td>\n",
       "      <td>0.725033</td>\n",
       "    </tr>\n",
       "    <tr>\n",
       "      <th>12</th>\n",
       "      <td>13</td>\n",
       "      <td>0.119539</td>\n",
       "      <td>1.396151</td>\n",
       "      <td>0.7244</td>\n",
       "      <td>0.7244</td>\n",
       "      <td>0.721875</td>\n",
       "    </tr>\n",
       "    <tr>\n",
       "      <th>13</th>\n",
       "      <td>14</td>\n",
       "      <td>0.099476</td>\n",
       "      <td>1.326087</td>\n",
       "      <td>0.7324</td>\n",
       "      <td>0.7324</td>\n",
       "      <td>0.732922</td>\n",
       "    </tr>\n",
       "    <tr>\n",
       "      <th>14</th>\n",
       "      <td>15</td>\n",
       "      <td>0.083268</td>\n",
       "      <td>1.346602</td>\n",
       "      <td>0.7278</td>\n",
       "      <td>0.7278</td>\n",
       "      <td>0.727195</td>\n",
       "    </tr>\n",
       "    <tr>\n",
       "      <th>15</th>\n",
       "      <td>16</td>\n",
       "      <td>0.067041</td>\n",
       "      <td>1.345458</td>\n",
       "      <td>0.7414</td>\n",
       "      <td>0.7414</td>\n",
       "      <td>0.740053</td>\n",
       "    </tr>\n",
       "    <tr>\n",
       "      <th>16</th>\n",
       "      <td>17</td>\n",
       "      <td>0.062080</td>\n",
       "      <td>1.350166</td>\n",
       "      <td>0.7308</td>\n",
       "      <td>0.7308</td>\n",
       "      <td>0.726373</td>\n",
       "    </tr>\n",
       "    <tr>\n",
       "      <th>17</th>\n",
       "      <td>18</td>\n",
       "      <td>0.042288</td>\n",
       "      <td>1.566870</td>\n",
       "      <td>0.7332</td>\n",
       "      <td>0.7332</td>\n",
       "      <td>0.734434</td>\n",
       "    </tr>\n",
       "    <tr>\n",
       "      <th>18</th>\n",
       "      <td>19</td>\n",
       "      <td>0.045929</td>\n",
       "      <td>1.442494</td>\n",
       "      <td>0.7370</td>\n",
       "      <td>0.7370</td>\n",
       "      <td>0.736946</td>\n",
       "    </tr>\n",
       "    <tr>\n",
       "      <th>19</th>\n",
       "      <td>20</td>\n",
       "      <td>0.042586</td>\n",
       "      <td>1.371219</td>\n",
       "      <td>0.7494</td>\n",
       "      <td>0.7494</td>\n",
       "      <td>0.748574</td>\n",
       "    </tr>\n",
       "  </tbody>\n",
       "</table>\n",
       "</div>"
      ],
      "text/plain": [
       "    epoch  train_loss  test_loss  accuracy  recall  f1_score\n",
       "0       1    2.117823   1.890981    0.3264  0.3264  0.291068\n",
       "1       2    1.619114   1.549263    0.4576  0.4576  0.437718\n",
       "2       3    1.346242   1.225999    0.5610  0.5610  0.552638\n",
       "3       4    1.126114   1.061778    0.6276  0.6276  0.628848\n",
       "4       5    0.938519   1.000822    0.6512  0.6512  0.649710\n",
       "5       6    0.775381   0.824272    0.7252  0.7252  0.724901\n",
       "6       7    0.643918   0.829965    0.7338  0.7338  0.731073\n",
       "7       8    0.503111   0.890168    0.7202  0.7202  0.716313\n",
       "8       9    0.376526   0.948073    0.7232  0.7232  0.723151\n",
       "9      10    0.262259   1.109301    0.7114  0.7114  0.714071\n",
       "10     11    0.204455   1.107618    0.7416  0.7416  0.742195\n",
       "11     12    0.140549   1.124946    0.7310  0.7310  0.725033\n",
       "12     13    0.119539   1.396151    0.7244  0.7244  0.721875\n",
       "13     14    0.099476   1.326087    0.7324  0.7324  0.732922\n",
       "14     15    0.083268   1.346602    0.7278  0.7278  0.727195\n",
       "15     16    0.067041   1.345458    0.7414  0.7414  0.740053\n",
       "16     17    0.062080   1.350166    0.7308  0.7308  0.726373\n",
       "17     18    0.042288   1.566870    0.7332  0.7332  0.734434\n",
       "18     19    0.045929   1.442494    0.7370  0.7370  0.736946\n",
       "19     20    0.042586   1.371219    0.7494  0.7494  0.748574"
      ]
     },
     "execution_count": 10,
     "metadata": {},
     "output_type": "execute_result"
    }
   ],
   "source": [
    "metrics_df"
   ]
  },
  {
   "cell_type": "code",
   "execution_count": null,
   "metadata": {},
   "outputs": [],
   "source": [
    "import os\n",
    "import json\n",
    "from datetime import datetime\n",
    "\n",
    "\n",
    "path = './test'\n",
    "base_name = f'e{NUM_EPOCHS}b{BATCH_SIZE}class{NUM_CLASSES}'\n",
    "# Adicionando a data e hora ao nome da pasta\n",
    "current_time = datetime.now().strftime(\"%Y%m%d_%H%M%S\")\n",
    "folder = f'{path}/{base_name}_{current_time}'\n",
    "\n",
    "os.makedirs(folder, exist_ok=True)\n",
    "\n",
    "\n",
    "info = {\n",
    "'epoca': NUM_EPOCHS,\n",
    "'lote': BATCH_SIZE,\n",
    "'momento': MOMENTUM,\n",
    "'decaimento': LR_DECAY,\n",
    "'tx_inical': LR_INIT,\n",
    "'dimensao': IMAGE_DIM,\n",
    "'classes': CIFAR10_CLASSES,\n",
    "'total_classes': NUM_CLASSES,\n",
    "'porcentagem': PERCENT,\n",
    "}\n",
    "\n",
    "# Plote gráficos de perda\n",
    "plt.plot(metrics_df['train_loss'], label='Training Loss')\n",
    "plt.plot(metrics_df['test_loss'], label='Test Loss')\n",
    "plt.legend()\n",
    "plt.xlabel('Epoch')\n",
    "plt.ylabel('Loss')\n",
    "plt.title('Training and Test Loss Over Time')\n",
    "plt.savefig(f'{folder}/loss_over_time.png')\n",
    "\n",
    "\n",
    "fig, ax, report = evaluate_model(model_trained, testloader, CIFAR10_CLASSES, device)\n",
    "report_df = pd.DataFrame(report).T\n",
    "\n",
    "\n",
    "with open(f'{folder}/info.json', 'w') as json_file:\n",
    "    json.dump(info, json_file, indent=2)\n",
    "\n",
    "\n",
    "report_df.to_csv(f'{folder}/report.csv')\n",
    "\n",
    "plt.savefig(f'{folder}/confusion_matrix.png')"
   ]
  }
 ],
 "metadata": {
  "kernelspec": {
   "display_name": ".venv",
   "language": "python",
   "name": "python3"
  },
  "language_info": {
   "codemirror_mode": {
    "name": "ipython",
    "version": 3
   },
   "file_extension": ".py",
   "mimetype": "text/x-python",
   "name": "python",
   "nbconvert_exporter": "python",
   "pygments_lexer": "ipython3",
   "version": "3.11.6"
  }
 },
 "nbformat": 4,
 "nbformat_minor": 2
}
