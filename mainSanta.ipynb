{
 "cells": [
  {
   "cell_type": "code",
   "execution_count": 1,
   "metadata": {},
   "outputs": [],
   "source": [
    "import torch\n",
    "import torch.nn as nn\n",
    "import torch.optim as optim\n",
    "import torchvision.transforms as transforms\n",
    "from torch.utils.data import DataLoader\n",
    "import matplotlib.pyplot as plt\n",
    "import pandas as pd\n",
    "from classes.AlexNet import AlexNet\n",
    "from utils.functions import *\n",
    "from utils.dataset_loader import *\n",
    "from utils.train import handle_train"
   ]
  },
  {
   "cell_type": "markdown",
   "metadata": {},
   "source": [
    "Definição das variaveis gerais"
   ]
  },
  {
   "cell_type": "code",
   "execution_count": 2,
   "metadata": {},
   "outputs": [],
   "source": [
    "# Número de épocas\n",
    "NUM_EPOCHS = 2\n",
    "# Tamanho do lote em cada interação\n",
    "BATCH_SIZE = 32\n",
    "# Parâmetro de convergência\n",
    "MOMENTUM = 0.9 \n",
    "# Taxa de decaimento\n",
    "LR_DECAY = 0.0005 \n",
    "# Taxa de aprendizado inicial\n",
    "LR_INIT = 0.01 \n",
    "# Dimensão das imagens\n",
    "IMAGE_DIM = 227\n",
    "# Lista de classes do dataset\n",
    "CIFAR10_CLASSES = ['Santa', 'Not Santa']\n",
    "# Total de classes\n",
    "NUM_CLASSES = len(CIFAR10_CLASSES)\n",
    "# Porcentagem total do dataset\n",
    "PERCENT = 50"
   ]
  },
  {
   "cell_type": "markdown",
   "metadata": {},
   "source": [
    "Seleciona em qual dispositivo será executado"
   ]
  },
  {
   "cell_type": "code",
   "execution_count": 3,
   "metadata": {},
   "outputs": [
    {
     "name": "stdout",
     "output_type": "stream",
     "text": [
      "Using device: cuda\n"
     ]
    }
   ],
   "source": [
    "device = torch.device(\"cuda\" if torch.cuda.is_available() else \"cpu\")\n",
    "print(f\"Using device: {device}\")"
   ]
  },
  {
   "cell_type": "markdown",
   "metadata": {},
   "source": [
    "Tranformações para redimensionamento das imagens"
   ]
  },
  {
   "cell_type": "code",
   "execution_count": 4,
   "metadata": {},
   "outputs": [],
   "source": [
    "# Defina as transformações para redimensionar e normalizar as imagens\n",
    "transform = transforms.Compose([transforms.Resize((IMAGE_DIM, IMAGE_DIM)),\n",
    "                                transforms.ToTensor(),\n",
    "                                transforms.Normalize((0.5, 0.5, 0.5), (0.5, 0.5, 0.5))])"
   ]
  },
  {
   "cell_type": "markdown",
   "metadata": {},
   "source": [
    "Gera um conjunto de treinamento e de test"
   ]
  },
  {
   "cell_type": "code",
   "execution_count": 5,
   "metadata": {},
   "outputs": [],
   "source": [
    "# trainset, testset = load_cifar10(n_size=PERCENT, transform=transform)\n",
    "# # Defina o dataloader\n",
    "# trainloader = DataLoader(trainset, batch_size=BATCH_SIZE, shuffle=True)\n",
    "# testloader = DataLoader(testset, batch_size=BATCH_SIZE, shuffle=False)\n",
    "\n",
    "train_mother_path = './data/is that santa/train'\n",
    "test_mother_path = './data/is that santa/train'\n",
    "\n",
    "train_image_path = glob(os.path.join(train_mother_path, '*', '*'))\n",
    "test_image_path = glob(os.path.join(test_mother_path, '*', '*'))\n",
    "trainData = CustomDataset(train_image_path, transform=transform)\n",
    "testData = CustomDataset(test_image_path, transform=transform)\n",
    "\n",
    "trainloader = torch.utils.data.DataLoader(trainData,\n",
    "                                          batch_size=BATCH_SIZE,\n",
    "                                          shuffle=True)\n",
    "\n",
    "testloader = torch.utils.data.DataLoader(testData,\n",
    "                                         batch_size=BATCH_SIZE,\n",
    "                                         shuffle=False)"
   ]
  },
  {
   "cell_type": "markdown",
   "metadata": {},
   "source": [
    "Cria a AlexNet"
   ]
  },
  {
   "cell_type": "code",
   "execution_count": 7,
   "metadata": {},
   "outputs": [],
   "source": [
    "# Instancie a AlexNet\n",
    "alexnet = AlexNet(num_classes=NUM_CLASSES).to(device)"
   ]
  },
  {
   "cell_type": "markdown",
   "metadata": {},
   "source": [
    "Treinmanedo da rede"
   ]
  },
  {
   "cell_type": "code",
   "execution_count": 8,
   "metadata": {},
   "outputs": [],
   "source": [
    "# Defina a função de perda e otimizador\n",
    "criterion = nn.CrossEntropyLoss()\n",
    "optimizer = optim.SGD(alexnet.parameters(), lr=LR_INIT, momentum=MOMENTUM, weight_decay=LR_DECAY)"
   ]
  },
  {
   "cell_type": "code",
   "execution_count": 9,
   "metadata": {},
   "outputs": [
    {
     "name": "stderr",
     "output_type": "stream",
     "text": [
      "Epoch 0, Training: 100%|██████████| 20/20 [00:05<00:00,  3.76it/s, loss=0.693]\n",
      "Epoch 0, Testing: 100%|██████████| 20/20 [00:04<00:00,  4.93it/s]\n"
     ]
    },
    {
     "name": "stdout",
     "output_type": "stream",
     "text": [
      "Epoch 1/2, Training Loss: 0.6933, Test Loss: 0.6907\n"
     ]
    },
    {
     "name": "stderr",
     "output_type": "stream",
     "text": [
      "Epoch 1, Training: 100%|██████████| 20/20 [00:05<00:00,  3.91it/s, loss=0.688]\n",
      "Epoch 1, Testing: 100%|██████████| 20/20 [00:04<00:00,  4.90it/s]"
     ]
    },
    {
     "name": "stdout",
     "output_type": "stream",
     "text": [
      "Epoch 2/2, Training Loss: 0.6876, Test Loss: 0.6855\n"
     ]
    },
    {
     "name": "stderr",
     "output_type": "stream",
     "text": [
      "\n"
     ]
    }
   ],
   "source": [
    "model_trained, metrics = handle_train(alexnet, NUM_EPOCHS, optimizer,criterion,trainloader, testloader, device)"
   ]
  },
  {
   "cell_type": "markdown",
   "metadata": {},
   "source": [
    "Analise dos resultados pos treinamento"
   ]
  },
  {
   "cell_type": "code",
   "execution_count": 10,
   "metadata": {},
   "outputs": [],
   "source": [
    "metrics_df = pd.DataFrame(metrics)"
   ]
  },
  {
   "cell_type": "code",
   "execution_count": 11,
   "metadata": {},
   "outputs": [
    {
     "data": {
      "text/html": [
       "<div>\n",
       "<style scoped>\n",
       "    .dataframe tbody tr th:only-of-type {\n",
       "        vertical-align: middle;\n",
       "    }\n",
       "\n",
       "    .dataframe tbody tr th {\n",
       "        vertical-align: top;\n",
       "    }\n",
       "\n",
       "    .dataframe thead th {\n",
       "        text-align: right;\n",
       "    }\n",
       "</style>\n",
       "<table border=\"1\" class=\"dataframe\">\n",
       "  <thead>\n",
       "    <tr style=\"text-align: right;\">\n",
       "      <th></th>\n",
       "      <th>epoch</th>\n",
       "      <th>train_loss</th>\n",
       "      <th>test_loss</th>\n",
       "      <th>accuracy</th>\n",
       "      <th>recall</th>\n",
       "      <th>f1_score</th>\n",
       "    </tr>\n",
       "  </thead>\n",
       "  <tbody>\n",
       "    <tr>\n",
       "      <th>0</th>\n",
       "      <td>1</td>\n",
       "      <td>0.693284</td>\n",
       "      <td>0.690739</td>\n",
       "      <td>0.7443</td>\n",
       "      <td>0.7443</td>\n",
       "      <td>0.732492</td>\n",
       "    </tr>\n",
       "    <tr>\n",
       "      <th>1</th>\n",
       "      <td>2</td>\n",
       "      <td>0.687571</td>\n",
       "      <td>0.685525</td>\n",
       "      <td>0.5000</td>\n",
       "      <td>0.5000</td>\n",
       "      <td>0.333333</td>\n",
       "    </tr>\n",
       "  </tbody>\n",
       "</table>\n",
       "</div>"
      ],
      "text/plain": [
       "   epoch  train_loss  test_loss  accuracy  recall  f1_score\n",
       "0      1    0.693284   0.690739    0.7443  0.7443  0.732492\n",
       "1      2    0.687571   0.685525    0.5000  0.5000  0.333333"
      ]
     },
     "execution_count": 11,
     "metadata": {},
     "output_type": "execute_result"
    }
   ],
   "source": [
    "metrics_df"
   ]
  },
  {
   "cell_type": "code",
   "execution_count": 12,
   "metadata": {},
   "outputs": [
    {
     "name": "stderr",
     "output_type": "stream",
     "text": [
      "Evaluating Model:   5%|▌         | 1/20 [00:00<00:03,  6.12it/s]"
     ]
    },
    {
     "name": "stderr",
     "output_type": "stream",
     "text": [
      "Evaluating Model: 100%|██████████| 20/20 [00:04<00:00,  4.77it/s]\n",
      "/home/romulolass/Codes/trabalho_pratico_visao_comp/.venv/lib/python3.10/site-packages/sklearn/metrics/_classification.py:1471: UndefinedMetricWarning: Precision and F-score are ill-defined and being set to 0.0 in labels with no predicted samples. Use `zero_division` parameter to control this behavior.\n",
      "  _warn_prf(average, modifier, msg_start, len(result))\n",
      "/home/romulolass/Codes/trabalho_pratico_visao_comp/.venv/lib/python3.10/site-packages/sklearn/metrics/_classification.py:1471: UndefinedMetricWarning: Precision and F-score are ill-defined and being set to 0.0 in labels with no predicted samples. Use `zero_division` parameter to control this behavior.\n",
      "  _warn_prf(average, modifier, msg_start, len(result))\n",
      "/home/romulolass/Codes/trabalho_pratico_visao_comp/.venv/lib/python3.10/site-packages/sklearn/metrics/_classification.py:1471: UndefinedMetricWarning: Precision and F-score are ill-defined and being set to 0.0 in labels with no predicted samples. Use `zero_division` parameter to control this behavior.\n",
      "  _warn_prf(average, modifier, msg_start, len(result))\n"
     ]
    },
    {
     "data": {
      "image/png": "[encoded data removed]",
      "text/plain": [
       "<Figure size 640x480 with 1 Axes>"
      ]
     },
     "metadata": {},
     "output_type": "display_data"
    },
    {
     "data": {
      "image/png": "[encoded data removed]",
      "text/plain": [
       "<Figure size 200x200 with 2 Axes>"
      ]
     },
     "metadata": {},
     "output_type": "display_data"
    }
   ],
   "source": [
    "import os\n",
    "import json\n",
    "from datetime import datetime\n",
    "\n",
    "\n",
    "path = './test'\n",
    "base_name = f'e{NUM_EPOCHS}b{BATCH_SIZE}class{NUM_CLASSES}'\n",
    "# Adicionando a data e hora ao nome da pasta\n",
    "current_time = datetime.now().strftime(\"%Y%m%d_%H%M%S\")\n",
    "folder = f'{path}/{base_name}_{current_time}'\n",
    "\n",
    "os.makedirs(folder, exist_ok=True)\n",
    "\n",
    "\n",
    "info = {\n",
    "'epoca': NUM_EPOCHS,\n",
    "'lote': BATCH_SIZE,\n",
    "'momento': MOMENTUM,\n",
    "'decaimento': LR_DECAY,\n",
    "'tx_inical': LR_INIT,\n",
    "'dimensao': IMAGE_DIM,\n",
    "'classes': CIFAR10_CLASSES,\n",
    "'total_classes': NUM_CLASSES,\n",
    "'porcentagem': PERCENT,\n",
    "}\n",
    "\n",
    "# Plote gráficos de perda\n",
    "plt.plot(metrics_df['train_loss'], label='Training Loss')\n",
    "plt.plot(metrics_df['test_loss'], label='Test Loss')\n",
    "plt.legend()\n",
    "plt.xlabel('Epoch')\n",
    "plt.ylabel('Loss')\n",
    "plt.title('Training and Test Loss Over Time')\n",
    "plt.savefig(f'{folder}/loss_over_time.png')\n",
    "\n",
    "\n",
    "fig, ax, report = evaluate_model(model_trained, testloader, CIFAR10_CLASSES, device)\n",
    "report_df = pd.DataFrame(report).T\n",
    "\n",
    "\n",
    "with open(f'{folder}/info.json', 'w') as json_file:\n",
    "    json.dump(info, json_file, indent=2)\n",
    "\n",
    "\n",
    "report_df.to_csv(f'{folder}/report.csv')\n",
    "\n",
    "plt.savefig(f'{folder}/confusion_matrix.png')"
   ]
  }
 ],
 "metadata": {
  "kernelspec": {
   "display_name": ".venv",
   "language": "python",
   "name": "python3"
  },
  "language_info": {
   "codemirror_mode": {
    "name": "ipython",
    "version": 3
   },
   "file_extension": ".py",
   "mimetype": "text/x-python",
   "name": "python",
   "nbconvert_exporter": "python",
   "pygments_lexer": "ipython3",
   "version": "3.10.12"
  }
 },
 "nbformat": 4,
 "nbformat_minor": 2
}
